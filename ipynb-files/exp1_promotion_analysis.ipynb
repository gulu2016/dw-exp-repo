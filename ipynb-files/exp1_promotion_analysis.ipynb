{
 "cells": [
  {
   "cell_type": "markdown",
   "metadata": {
    "application/vnd.databricks.v1+cell": {
     "cellMetadata": {},
     "inputWidgets": {},
     "nuid": "5be18a08-0e16-4823-9570-afa5dcacb123",
     "showTitle": false,
     "title": ""
    }
   },
   "source": [
    "# 构建电商数据仓库-营销活动主题分析"
   ]
  },
  {
   "cell_type": "markdown",
   "metadata": {
    "application/vnd.databricks.v1+cell": {
     "cellMetadata": {},
     "inputWidgets": {},
     "nuid": "e3227506-bd79-49eb-946b-d862282c6afa",
     "showTitle": false,
     "title": ""
    }
   },
   "source": [
    "## 一、简介"
   ]
  },
  {
   "cell_type": "markdown",
   "metadata": {
    "application/vnd.databricks.v1+cell": {
     "cellMetadata": {},
     "inputWidgets": {},
     "nuid": "a5fc96cf-b211-41b1-8bc6-f654f83b11fb",
     "showTitle": false,
     "title": ""
    }
   },
   "source": [
    "### 1、项目介绍"
   ]
  },
  {
   "cell_type": "markdown",
   "metadata": {
    "application/vnd.databricks.v1+cell": {
     "cellMetadata": {},
     "inputWidgets": {},
     "nuid": "d0472625-21cb-444f-b2e5-6cec040174f2",
     "showTitle": false,
     "title": ""
    }
   },
   "source": [
    "#### 1.1 项目描述\n",
    "- **背景：** 一家零售公司希望通过促销活动方式提升交易量，提高用户满意度。需要针对该业务过程创建营销主题，以获取活动期间的统计信息。\n",
    "- **建模方法：** 使用星型模式（Star Schema）建模，包括维度表（如营销活动维度）和事实表（包括订单信息等）。\n",
    "- **实验过程：** 加载数据、数据建模、指标计算。\n"
   ]
  },
  {
   "cell_type": "markdown",
   "metadata": {
    "application/vnd.databricks.v1+cell": {
     "cellMetadata": {},
     "inputWidgets": {},
     "nuid": "de0b207d-48c6-4a63-9d47-43113bb91b69",
     "showTitle": false,
     "title": ""
    }
   },
   "source": [
    "#### 1.2 适学人群\n",
    "大二年级及以上，数据仓库初学者，并且有志于从事数据开发工程师。\n"
   ]
  },
  {
   "cell_type": "markdown",
   "metadata": {
    "application/vnd.databricks.v1+cell": {
     "cellMetadata": {},
     "inputWidgets": {},
     "nuid": "631baf03-c913-4107-8487-eb9f398392de",
     "showTitle": false,
     "title": ""
    }
   },
   "source": [
    "#### 1.3 课程基础\n",
    "掌握python基础、掌握Spark基础。\n"
   ]
  },
  {
   "cell_type": "markdown",
   "metadata": {
    "application/vnd.databricks.v1+cell": {
     "cellMetadata": {},
     "inputWidgets": {},
     "nuid": "77e3f2bf-69a0-4195-a000-1adb5590f720",
     "showTitle": false,
     "title": ""
    }
   },
   "source": [
    "### 2、任务介绍\n",
    "使用星型模式（Star Schema）建模，包括维度表（如营销活动维度）和事实表（包括订单信息等），针对该业务过程创建营销主题，以获取活动期间的统计信息。"
   ]
  },
  {
   "cell_type": "markdown",
   "metadata": {
    "application/vnd.databricks.v1+cell": {
     "cellMetadata": {},
     "inputWidgets": {},
     "nuid": "846ca348-6010-4a27-b830-f83f9583ed0c",
     "showTitle": false,
     "title": ""
    }
   },
   "source": [
    "### 3、数据集介绍"
   ]
  },
  {
   "cell_type": "markdown",
   "metadata": {
    "application/vnd.databricks.v1+cell": {
     "cellMetadata": {},
     "inputWidgets": {},
     "nuid": "4fc28861-79b2-4af9-8aeb-231e17056987",
     "showTitle": false,
     "title": ""
    }
   },
   "source": [
    "整个分析会涉及以下来自业务系统的表\n",
    "- order_detail_sample_data： 订单的主要信息\n",
    "- order_info_sample_data: 订单的补充信息\n",
    "- promotion_full_data：营销活动信息"
   ]
  },
  {
   "cell_type": "markdown",
   "metadata": {
    "application/vnd.databricks.v1+cell": {
     "cellMetadata": {},
     "inputWidgets": {},
     "nuid": "4c5ceb83-0d93-4f61-9874-87c349738573",
     "showTitle": false,
     "title": ""
    }
   },
   "source": [
    "order_detail_sample_data 包含字段如下：\n",
    "- \"id\":StringType,订单的ID\n",
    "- \"amount\":FloatType, 订单总价\n",
    "- \"item_num\":IntegerType,订单中包含的商品数量\n",
    "- \"user_id\": StringType,下单用户ID\n",
    "- \"order_info_id\": StringType,订单其他信息ID\n",
    "- \"product_category_id\": StringType,产品类别ID\n",
    "- \"product_sku_id\": StringType,产品的SKU ID \n",
    "- \"shop_id\": StringType,商店ID\n",
    "- \"create_time\": StringType,订单创建时间\n",
    "- \"update_time\": StringType,订单更新时间"
   ]
  },
  {
   "cell_type": "markdown",
   "metadata": {
    "application/vnd.databricks.v1+cell": {
     "cellMetadata": {},
     "inputWidgets": {},
     "nuid": "e77471bc-289c-48ce-847f-bbdf4d88210f",
     "showTitle": false,
     "title": ""
    }
   },
   "source": [
    "order_info_sample_data 包含字段如下：\n",
    "- \"id\"： StringType，订单的补充信息ID\n",
    "- \"actual_amount\": FloatType，实际支付总价\n",
    "- \"comment\"： StringType，评价\n",
    "- \"original_amount\"： FloatType, 折扣前总价\n",
    "- \"rating\"： IntegerType，评分\n",
    "- \"reduce_amount\"： FloatType，折扣金额\n",
    "- \"delevery_amount\"： FloatType，运费\n",
    "- \"status\"： StringType，订单状态\n",
    "- \"promotion_id\"： StringType()，促销活动ID\n",
    "- \"user_addr\"： StringType()，用户地址\n",
    "- \"create_time\"： StringType()，订单创建时间\n",
    "- \"update_time\"： StringType()，订单更新时间"
   ]
  },
  {
   "cell_type": "markdown",
   "metadata": {
    "application/vnd.databricks.v1+cell": {
     "cellMetadata": {},
     "inputWidgets": {},
     "nuid": "cf75ed28-58a8-4652-946d-e86b80660ee8",
     "showTitle": false,
     "title": ""
    }
   },
   "source": [
    "promotion_full_data 包含字段如下：\n",
    "- \"id\"： StringType(),营销活动ID\n",
    "- \"company_name\"： StringType(),公司名称\n",
    "- \"owner_name\"： StringType(), 公司所有者\n",
    "- \"promotion_name\"： StringType(), 营销活动名称\n",
    "- \"is_active\"： IntegerType(), 活动是否在进行中，0表示未开始，1表示进行中\n",
    "- \"create_time\"： StringType(), 活动创建时间\n",
    "- \"update_time\"： StringType()，活动更新时间"
   ]
  },
  {
   "cell_type": "markdown",
   "metadata": {
    "application/vnd.databricks.v1+cell": {
     "cellMetadata": {},
     "inputWidgets": {},
     "nuid": "121faddf-2380-4d30-a853-8c31562d5d1a",
     "showTitle": false,
     "title": ""
    }
   },
   "source": [
    "### 4、学习目标\n",
    "- 通过本项目能够实现星型模式（Star Schema）建模\n",
    "- 了解增量表的概念，以及命名方式、建模方式"
   ]
  },
  {
   "cell_type": "markdown",
   "metadata": {
    "application/vnd.databricks.v1+cell": {
     "cellMetadata": {},
     "inputWidgets": {},
     "nuid": "382dcb5e-4665-448e-865d-1d288c36cec1",
     "showTitle": false,
     "title": ""
    }
   },
   "source": [
    "## 二、导入工具包"
   ]
  },
  {
   "cell_type": "code",
   "execution_count": 0,
   "metadata": {
    "application/vnd.databricks.v1+cell": {
     "cellMetadata": {
      "byteLimit": 2048000,
      "rowLimit": 10000
     },
     "inputWidgets": {},
     "nuid": "e178280d-ab33-4e7e-95fc-2799e649c688",
     "showTitle": false,
     "title": ""
    }
   },
   "outputs": [],
   "source": [
    "from pyspark.sql import SparkSession\n",
    "from pyspark.sql.types import *\n",
    "from pyspark.sql.functions import col, date_format,md5, concat, substring, lit, sum, countDistinct, when\n",
    "import os\n",
    "import sys"
   ]
  },
  {
   "cell_type": "markdown",
   "metadata": {
    "application/vnd.databricks.v1+cell": {
     "cellMetadata": {},
     "inputWidgets": {},
     "nuid": "9506545f-4ee5-422d-8bcb-d9e2debbcd2a",
     "showTitle": false,
     "title": ""
    }
   },
   "source": [
    "## 三、准备工作"
   ]
  },
  {
   "cell_type": "markdown",
   "metadata": {
    "application/vnd.databricks.v1+cell": {
     "cellMetadata": {},
     "inputWidgets": {},
     "nuid": "a10c7c0d-6b91-4f9b-bf7a-1b1df95cdd03",
     "showTitle": false,
     "title": ""
    }
   },
   "source": [
    "创建 SparkSession"
   ]
  },
  {
   "cell_type": "code",
   "execution_count": 0,
   "metadata": {
    "application/vnd.databricks.v1+cell": {
     "cellMetadata": {
      "byteLimit": 2048000,
      "rowLimit": 10000
     },
     "inputWidgets": {},
     "nuid": "31113b4a-47b7-4473-b89a-57affba92a7c",
     "showTitle": false,
     "title": ""
    }
   },
   "outputs": [],
   "source": [
    "spark = SparkSession.builder \\\n",
    "    .appName(\"exp1_promotion_analysis\") \\\n",
    "    .getOrCreate()\n"
   ]
  },
  {
   "cell_type": "markdown",
   "metadata": {
    "application/vnd.databricks.v1+cell": {
     "cellMetadata": {},
     "inputWidgets": {},
     "nuid": "67a47730-e43c-4952-a0e7-c22d12e820ea",
     "showTitle": false,
     "title": ""
    }
   },
   "source": [
    "（可选）解析输入参数"
   ]
  },
  {
   "cell_type": "code",
   "execution_count": 0,
   "metadata": {
    "application/vnd.databricks.v1+cell": {
     "cellMetadata": {},
     "inputWidgets": {},
     "nuid": "520ce41b-218f-43de-94f2-79a3ab91c739",
     "showTitle": false,
     "title": ""
    }
   },
   "outputs": [],
   "source": [
    "def parse_args(args):\n",
    "    result = dict()\n",
    "    size = len(args)\n",
    "    for i in range(0, size - 1):\n",
    "        if (args[i].startswith(\"--\")) and i + 1 < size and not args[i + 1].startswith(\"--\"):\n",
    "            print('SystemLog:', args[i].strip().lower(), '=', args[i+1].strip())\n",
    "            result[args[i].strip().lower()] = args[i + 1].strip()\n",
    "    return result\n",
    "\n",
    "args_map = parse_args(sys.argv)\n",
    "input_path = args_map[\"--input_path\".lower()].rstrip(\"*\")"
   ]
  },
  {
   "cell_type": "markdown",
   "metadata": {
    "application/vnd.databricks.v1+cell": {
     "cellMetadata": {},
     "inputWidgets": {},
     "nuid": "81d26957-200a-40cc-9a85-04545d37354c",
     "showTitle": false,
     "title": ""
    }
   },
   "source": [
    "确定输入文件的路径"
   ]
  },
  {
   "cell_type": "code",
   "execution_count": 0,
   "metadata": {
    "application/vnd.databricks.v1+cell": {
     "cellMetadata": {},
     "inputWidgets": {},
     "nuid": "c8c0ec5b-7aed-4e22-bd5a-73fd6680cde0",
     "showTitle": false,
     "title": ""
    }
   },
   "outputs": [],
   "source": [
    "current_directory = input_path\n",
    "ods_order_path = os.path.join(current_directory, 'exp1_ods_order_1di_extend.csv')\n",
    "ods_order_detail_path = os.path.join(current_directory, 'exp1_ods_order_detail_info_1di_extend.csv')\n",
    "promo_info_path = os.path.join(current_directory, 'exp1_ods_promo_info_full_extend.csv')"
   ]
  },
  {
   "cell_type": "markdown",
   "metadata": {
    "application/vnd.databricks.v1+cell": {
     "cellMetadata": {},
     "inputWidgets": {},
     "nuid": "b3645f15-2c11-4bb4-8a9c-8a99d976cd13",
     "showTitle": false,
     "title": ""
    }
   },
   "source": [
    "## 四、构建ODS层"
   ]
  },
  {
   "cell_type": "markdown",
   "metadata": {
    "application/vnd.databricks.v1+cell": {
     "cellMetadata": {},
     "inputWidgets": {},
     "nuid": "689b64de-6b4a-4610-bb53-ef54490e5cf5",
     "showTitle": false,
     "title": ""
    }
   },
   "source": [
    "- ODS层的作用是将业务系统的数据导入到数据仓库中，创建ODS层数据表是构建数据仓库的起点\n",
    "- 在下列表的命名中，会对应数据的业务过程、数据的时间范围\n",
    "- 以下Schema是介绍表ODS读取的源数据的结构，这个结构是和源数据的csv文件的header对应的"
   ]
  },
  {
   "cell_type": "markdown",
   "metadata": {
    "application/vnd.databricks.v1+cell": {
     "cellMetadata": {},
     "inputWidgets": {},
     "nuid": "5c543fcd-4596-4caa-8794-1eebe357ded8",
     "showTitle": false,
     "title": ""
    }
   },
   "source": [
    "### 1、定义ODS表的表结构"
   ]
  },
  {
   "cell_type": "markdown",
   "metadata": {
    "application/vnd.databricks.v1+cell": {
     "cellMetadata": {},
     "inputWidgets": {},
     "nuid": "c5d1ffb7-2722-4026-a80d-e519288fd77d",
     "showTitle": false,
     "title": ""
    }
   },
   "source": [
    "定义 exp1_ods_order_1di 的 Schema\n"
   ]
  },
  {
   "cell_type": "code",
   "execution_count": 0,
   "metadata": {
    "application/vnd.databricks.v1+cell": {
     "cellMetadata": {
      "byteLimit": 2048000,
      "rowLimit": 10000
     },
     "inputWidgets": {},
     "nuid": "49bba8da-432e-4a4d-a368-640043ecf2fc",
     "showTitle": false,
     "title": ""
    }
   },
   "outputs": [],
   "source": [
    "order_detail_schema = StructType([\n",
    "    StructField(\"id\", StringType()),\n",
    "    StructField(\"amount\", FloatType()),\n",
    "    StructField(\"item_num\", IntegerType()),\n",
    "    StructField(\"user_id\", StringType()),\n",
    "    StructField(\"order_info_id\", StringType()),\n",
    "    StructField(\"product_category_id\", StringType()),\n",
    "    StructField(\"product_sku_id\", StringType()),\n",
    "    StructField(\"shop_id\", StringType()),\n",
    "    StructField(\"create_time\", StringType()),\n",
    "    StructField(\"update_time\", StringType())\n",
    "])"
   ]
  },
  {
   "cell_type": "markdown",
   "metadata": {
    "application/vnd.databricks.v1+cell": {
     "cellMetadata": {},
     "inputWidgets": {},
     "nuid": "891580b0-cba2-44ef-95bd-41774b4513c6",
     "showTitle": false,
     "title": ""
    }
   },
   "source": [
    "定义 exp1_ods_order_detail_info_1di 的 Schema"
   ]
  },
  {
   "cell_type": "code",
   "execution_count": 0,
   "metadata": {
    "application/vnd.databricks.v1+cell": {
     "cellMetadata": {
      "byteLimit": 2048000,
      "rowLimit": 10000
     },
     "inputWidgets": {},
     "nuid": "58d424b4-1a3b-4209-bfb7-91784f726bd4",
     "showTitle": false,
     "title": ""
    }
   },
   "outputs": [],
   "source": [
    "order_info_schema = StructType([\n",
    "    StructField(\"id\", StringType(), True),\n",
    "    StructField(\"actual_amount\", FloatType(), True),\n",
    "    StructField(\"comment\", StringType(), True),\n",
    "    StructField(\"original_amount\", FloatType(), True),\n",
    "    StructField(\"rating\", IntegerType(), True),\n",
    "    StructField(\"reduce_amount\", FloatType(), True),\n",
    "    StructField(\"delevery_amount\", FloatType(), True),\n",
    "    StructField(\"status\", StringType(), True),\n",
    "    StructField(\"promotion_id\", StringType(), True),\n",
    "    StructField(\"user_addr\", StringType(), True),\n",
    "    StructField(\"create_time\", StringType(), True),\n",
    "    StructField(\"update_time\", StringType(), True)\n",
    "])"
   ]
  },
  {
   "cell_type": "markdown",
   "metadata": {
    "application/vnd.databricks.v1+cell": {
     "cellMetadata": {},
     "inputWidgets": {},
     "nuid": "71294246-72bb-4165-8134-1d76fab981e7",
     "showTitle": false,
     "title": ""
    }
   },
   "source": [
    "定义 exp1_ods_promo_info_full 表的 schema"
   ]
  },
  {
   "cell_type": "code",
   "execution_count": 0,
   "metadata": {
    "application/vnd.databricks.v1+cell": {
     "cellMetadata": {
      "byteLimit": 2048000,
      "rowLimit": 10000
     },
     "inputWidgets": {},
     "nuid": "f5aedd98-cc19-47f3-99a8-faed1d3c9d11",
     "showTitle": false,
     "title": ""
    }
   },
   "outputs": [],
   "source": [
    "promotion_full_schema = StructType([\n",
    "    StructField(\"id\", StringType(), True),\n",
    "    StructField(\"company_name\", StringType(), True),\n",
    "    StructField(\"owner_name\", StringType(), True),\n",
    "    StructField(\"promotion_name\", StringType(), True),\n",
    "    StructField(\"is_active\", IntegerType(), True),\n",
    "    StructField(\"create_time\", StringType(), True),\n",
    "    StructField(\"update_time\", StringType(), True)\n",
    "])"
   ]
  },
  {
   "cell_type": "markdown",
   "metadata": {
    "application/vnd.databricks.v1+cell": {
     "cellMetadata": {},
     "inputWidgets": {},
     "nuid": "fe543d91-8535-45bf-ab36-89652a47a1d2",
     "showTitle": false,
     "title": ""
    }
   },
   "source": [
    "### 2、加载ODS数据、保存为ODS表"
   ]
  },
  {
   "cell_type": "markdown",
   "metadata": {
    "application/vnd.databricks.v1+cell": {
     "cellMetadata": {},
     "inputWidgets": {},
     "nuid": "1220aa6a-0c60-450b-ab0a-deb0a8db2d96",
     "showTitle": false,
     "title": ""
    }
   },
   "source": [
    "构建 exp1_ods_order_1di 表\n",
    "- ods 表示该表为 ods 层级\n",
    "- order 表示对应创建订单业务过程\n",
    "- 1di 中 “1d”表示最近1天数据，i表示是增量数据，1di就是最近1天的增量数据"
   ]
  },
  {
   "cell_type": "code",
   "execution_count": 0,
   "metadata": {
    "application/vnd.databricks.v1+cell": {
     "cellMetadata": {
      "byteLimit": 2048000,
      "rowLimit": 10000
     },
     "inputWidgets": {},
     "nuid": "2f55a0a4-d9fb-4049-8d90-f321d39cae39",
     "showTitle": false,
     "title": ""
    }
   },
   "outputs": [
    {
     "output_type": "stream",
     "name": "stdout",
     "output_type": "stream",
     "text": [
      "+----------+------------+---------+------+------------+----------+-------------+-----------+------------------------+\n|Product ID|Product Name| Category| Brand| Description|Cost Price|Selling Price|Supplier ID|Stock Keeping Unit (SKU)|\n+----------+------------+---------+------+------------+----------+-------------+-----------+------------------------+\n|        P1|    Product1|Category1|Brand1|Description1|      10.5|         20.5|  Supplier1|                    SKU1|\n|        P2|    Product2|Category2|Brand2|Description2|      15.0|         25.0|  Supplier2|                    SKU2|\n|        P3|    Product3|Category3|Brand3|Description3|      12.0|         22.0|  Supplier3|                    SKU3|\n+----------+------------+---------+------+------------+----------+-------------+-----------+------------------------+\n\n"
     ]
    }
   ],
   "source": [
    "exp1_ods_order_1di = spark.read.csv(ods_order_path, header=True)\n",
    "exp1_ods_order_1di.show()"
   ]
  },
  {
   "cell_type": "markdown",
   "metadata": {
    "application/vnd.databricks.v1+cell": {
     "cellMetadata": {},
     "inputWidgets": {},
     "nuid": "84690d58-d3b7-41d3-9d74-9d85ae20bcab",
     "showTitle": false,
     "title": ""
    }
   },
   "source": [
    "构建 exp1_ods_order_detail_info_1di\n",
    "- ods 表示该表为 ods 层级\n",
    "- order_detail 表示对应创建订单业务过程，是订单的详细信息\n",
    "- 1di 中 “1d”表示最近1天数据，i表示是增量数据，1di就是最近1天的增量数据"
   ]
  },
  {
   "cell_type": "code",
   "execution_count": 0,
   "metadata": {
    "application/vnd.databricks.v1+cell": {
     "cellMetadata": {},
     "inputWidgets": {},
     "nuid": "e9da61a7-14db-430c-bafc-ba0b8ac5a662",
     "showTitle": false,
     "title": ""
    }
   },
   "outputs": [],
   "source": [
    "exp1_ods_order_detail_info_1di = spark.read.csv(ods_order_detail_path, header=True)\n",
    "exp1_ods_order_detail_info_1di.show()"
   ]
  },
  {
   "cell_type": "markdown",
   "metadata": {
    "application/vnd.databricks.v1+cell": {
     "cellMetadata": {},
     "inputWidgets": {},
     "nuid": "a3f8162d-83bf-4322-9a3e-76c324cb3dc5",
     "showTitle": false,
     "title": ""
    }
   },
   "source": [
    "构建 exp1_ods_promo_info_full\n",
    "- ods 表示该表为 ods 层级\n",
    "- promo_info 表示对应营销活动数据，是营销活动的详细信息\n",
    "- full 表示全量数据，既包含当天新增数据，也包含历史数据"
   ]
  },
  {
   "cell_type": "code",
   "execution_count": 0,
   "metadata": {
    "application/vnd.databricks.v1+cell": {
     "cellMetadata": {},
     "inputWidgets": {},
     "nuid": "84557a33-d2df-40d6-a4e6-c8fe6766da4a",
     "showTitle": false,
     "title": ""
    }
   },
   "outputs": [],
   "source": [
    "exp1_ods_promo_info_full = spark.read.csv(promo_info_path, header=True)\n",
    "exp1_ods_promo_info_full.show()"
   ]
  },
  {
   "cell_type": "markdown",
   "metadata": {
    "application/vnd.databricks.v1+cell": {
     "cellMetadata": {},
     "inputWidgets": {},
     "nuid": "58d028d5-20b4-4990-bf84-4a16dedff255",
     "showTitle": false,
     "title": ""
    }
   },
   "source": [
    "## 五、构建DIM层（维度表）"
   ]
  },
  {
   "cell_type": "markdown",
   "metadata": {
    "application/vnd.databricks.v1+cell": {
     "cellMetadata": {},
     "inputWidgets": {},
     "nuid": "9705171d-9025-4ea0-b86c-02447b13522f",
     "showTitle": false,
     "title": ""
    }
   },
   "source": [
    "- DIM层的作用是保存业务过程中，各个参与实体的信息，例如在营销活动中，每个营销活动本身就是一个实体"
   ]
  },
  {
   "cell_type": "markdown",
   "metadata": {
    "application/vnd.databricks.v1+cell": {
     "cellMetadata": {},
     "inputWidgets": {},
     "nuid": "18e93171-3e2f-41c2-9161-eeac27ee0797",
     "showTitle": false,
     "title": ""
    }
   },
   "source": [
    "构建 exp1_dim_promo_info_full 表\n",
    "- dim 表示该表为 dim 层级\n",
    "- promo_info 表示对应营销活动数据，是营销活动的详细信息\n",
    "- full 表示全量数据，既包含当天新增数据，也包含历史数据"
   ]
  },
  {
   "cell_type": "code",
   "execution_count": 0,
   "metadata": {
    "application/vnd.databricks.v1+cell": {
     "cellMetadata": {},
     "inputWidgets": {},
     "nuid": "091aeaf5-7879-4a79-86f9-bab23d41fd8b",
     "showTitle": false,
     "title": ""
    }
   },
   "outputs": [],
   "source": [
    "# 通过 is_active 筛选有效的记录\n",
    "exp1_dim_promo_info_full = exp1_ods_promo_info_full \\\n",
    "    .where(col(\"is_active\") == 1)\\\n",
    "    .select(\"id\", \"company_name\", \"owner_name\", \"promotion_name\")\n",
    "exp1_dim_promo_info_full.show()"
   ]
  },
  {
   "cell_type": "markdown",
   "metadata": {
    "application/vnd.databricks.v1+cell": {
     "cellMetadata": {},
     "inputWidgets": {},
     "nuid": "e80899af-8398-4a1e-adfe-3ce604f1f3c5",
     "showTitle": false,
     "title": ""
    }
   },
   "source": [
    "## 六、构建DWD层（明细事实表）"
   ]
  },
  {
   "cell_type": "markdown",
   "metadata": {
    "application/vnd.databricks.v1+cell": {
     "cellMetadata": {},
     "inputWidgets": {},
     "nuid": "c9dc63ba-4878-4db7-90a2-47a15d8ac4e1",
     "showTitle": false,
     "title": ""
    }
   },
   "source": [
    "- DWD层的作用是保存业务过程中的详细数据，主要用来描述业务过程的细节"
   ]
  },
  {
   "cell_type": "markdown",
   "metadata": {
    "application/vnd.databricks.v1+cell": {
     "cellMetadata": {},
     "inputWidgets": {},
     "nuid": "0b587dcb-2f1d-4e18-acc7-ed035beca15a",
     "showTitle": false,
     "title": ""
    }
   },
   "source": [
    "构建 exp1_dwd_order_detail_1di 表\n",
    "- dwd 表示该表为 dwd 层级\n",
    "- order_detail 表示对应营销活动数据的详细，每个记录都代表参与营销活动的下单记录\n",
    "- 1di 中 “1d”表示最近1天数据，i表示是增量数据，1di就是最近1天的增量数据"
   ]
  },
  {
   "cell_type": "code",
   "execution_count": 0,
   "metadata": {
    "application/vnd.databricks.v1+cell": {
     "cellMetadata": {
      "byteLimit": 2048000,
      "rowLimit": 10000
     },
     "inputWidgets": {},
     "nuid": "e09baac0-f034-4994-b30e-2dfe7eba1b38",
     "showTitle": false,
     "title": ""
    }
   },
   "outputs": [
    {
     "output_type": "stream",
     "name": "stdout",
     "output_type": "stream",
     "text": [
      "+---------+-----------+--------+----------+-----------+---------+------+------------+-------------+-----------------+\n|ProductID|WarehouseID|Quantity| StockDate|ProductName| Category| Brand|StockQuarter|WarehouseName|WarehouseLocation|\n+---------+-----------+--------+----------+-----------+---------+------+------------+-------------+-----------------+\n|       P2|         W2|     150|2023-01-02|   Product2|Category2|Brand2|          Q1|  Warehouse B|      Los Angeles|\n|       P1|         W1|     100|2023-01-01|   Product1|Category1|Brand1|          Q1|  Warehouse A|         New York|\n|       P3|         W1|     200|2023-01-03|   Product3|Category3|Brand3|          Q1|  Warehouse A|         New York|\n+---------+-----------+--------+----------+-----------+---------+------+------------+-------------+-----------------+\n\n"
     ]
    }
   ],
   "source": [
    "# 对 detail_df 转换，格式化时间信息\n",
    "detail_filtered_df = exp1_ods_order_1di \\\n",
    "    .select(\n",
    "        col(\"id\"),\n",
    "        col(\"create_time\").alias(\"order_time\"),\n",
    "        date_format(col(\"create_time\"), \"yyyy-MM-dd\").alias(\"order_date\"),\n",
    "        col(\"amount\").alias(\"split_orginal_amount\"),\n",
    "        col(\"item_num\"),\n",
    "        col(\"user_id\"),\n",
    "        col(\"order_info_id\").alias(\"order_info_id\"),\n",
    "        col(\"product_category_id\"),\n",
    "        col(\"product_sku_id\"),\n",
    "        col(\"shop_id\")\n",
    "    )"
   ]
  },
  {
   "cell_type": "code",
   "execution_count": 0,
   "metadata": {
    "application/vnd.databricks.v1+cell": {
     "cellMetadata": {},
     "inputWidgets": {},
     "nuid": "877b580d-5211-468c-b351-e4d53b4dec82",
     "showTitle": false,
     "title": ""
    }
   },
   "outputs": [],
   "source": [
    "# 对info_df进行筛选和转换\n",
    "info_filtered_df = exp1_ods_order_detail_info_1di \\\n",
    "    .select(\n",
    "        col(\"id\"),\n",
    "        col(\"promotion_id\"),\n",
    "        col(\"original_amount\"),\n",
    "        col(\"reduce_amount\"),\n",
    "        col(\"actual_amount\"),\n",
    "        col(\"rating\")\n",
    "    )"
   ]
  },
  {
   "cell_type": "code",
   "execution_count": 0,
   "metadata": {
    "application/vnd.databricks.v1+cell": {
     "cellMetadata": {},
     "inputWidgets": {},
     "nuid": "8f9cab74-2f24-4544-a85f-9a238ef4ef79",
     "showTitle": false,
     "title": ""
    }
   },
   "outputs": [],
   "source": [
    "# 将订单表和订单详细信息表连接，构成一张完整描述订单信息的 dwd 表\n",
    "exp1_dwd_order_detail_1di = detail_filtered_df \\\n",
    "    .join(info_filtered_df, detail_filtered_df[\"order_info_id\"] == info_filtered_df[\"id\"], \"left\") \\\n",
    "    .select(\n",
    "        detail_filtered_df[\"id\"],\n",
    "        detail_filtered_df[\"order_time\"],\n",
    "        detail_filtered_df[\"order_date\"],\n",
    "        detail_filtered_df[\"split_orginal_amount\"],\n",
    "        info_filtered_df[\"reduce_amount\"].alias(\"split_reduce_amount\"),\n",
    "        info_filtered_df[\"actual_amount\"].alias(\"split_actual_amount\"),\n",
    "        detail_filtered_df[\"item_num\"],\n",
    "        detail_filtered_df[\"user_id\"],\n",
    "        detail_filtered_df[\"order_info_id\"],\n",
    "        detail_filtered_df[\"product_category_id\"],\n",
    "        detail_filtered_df[\"product_sku_id\"],\n",
    "        detail_filtered_df[\"shop_id\"],\n",
    "        info_filtered_df[\"promotion_id\"],\n",
    "        info_filtered_df[\"rating\"],\n",
    "        detail_filtered_df[\"order_date\"]\n",
    "    )"
   ]
  },
  {
   "cell_type": "code",
   "execution_count": 0,
   "metadata": {
    "application/vnd.databricks.v1+cell": {
     "cellMetadata": {},
     "inputWidgets": {},
     "nuid": "f97be7a0-b9b5-4d3f-ad01-ecc70bb5f18a",
     "showTitle": false,
     "title": ""
    }
   },
   "outputs": [],
   "source": [
    "# 显示DWD表的结果\n",
    "exp1_dwd_order_detail_1di.show()"
   ]
  },
  {
   "cell_type": "markdown",
   "metadata": {
    "application/vnd.databricks.v1+cell": {
     "cellMetadata": {},
     "inputWidgets": {},
     "nuid": "e23c5158-492c-4a42-9772-869caa41656a",
     "showTitle": false,
     "title": ""
    }
   },
   "source": [
    "## 七、构建DWS层"
   ]
  },
  {
   "cell_type": "markdown",
   "metadata": {
    "application/vnd.databricks.v1+cell": {
     "cellMetadata": {},
     "inputWidgets": {},
     "nuid": "98688656-724b-45f9-a3f3-90a3218f5156",
     "showTitle": false,
     "title": ""
    }
   },
   "source": [
    "- DWS层的作用是保存业务实体参与业务过程的聚合数据，在本实验中就是统计营销活动的一些指标"
   ]
  },
  {
   "cell_type": "markdown",
   "metadata": {
    "application/vnd.databricks.v1+cell": {
     "cellMetadata": {},
     "inputWidgets": {},
     "nuid": "eb2a40be-a3c9-472b-84d7-78f4be56ca76",
     "showTitle": false,
     "title": ""
    }
   },
   "source": [
    "对 exp1_dwd_order_detail_1di 表执行聚合操作\n",
    "- dws 表示该表为 dws 层级\n",
    "- order_detail 表示对应营销活动数据，每个记录都代表营销活动的聚合统计信息\n",
    "- 1di 中 “1d”表示最近1天数据，i表示是增量数据，1di就是最近1天的增量数据"
   ]
  },
  {
   "cell_type": "code",
   "execution_count": 0,
   "metadata": {
    "application/vnd.databricks.v1+cell": {
     "cellMetadata": {},
     "inputWidgets": {},
     "nuid": "7d4c18de-36d4-4784-a08c-8d8fd0b05874",
     "showTitle": false,
     "title": ""
    }
   },
   "outputs": [],
   "source": [
    "# 按照 promotion_id 聚合，得到各种指标\n",
    "order_detail_agg_df = exp1_dwd_order_detail_1di \\\n",
    "    # 只筛选促销活动相关的订单记录\n",
    "    .where(col(\"promotion_id\").isNotNull()) \\\n",
    "    .groupby(\"promotion_id\") \\\n",
    "    .agg(\n",
    "        # 活动总折扣金额\n",
    "        sum(\"split_reduce_amount\").alias(\"total_reduce_amount\"),\n",
    "        # 活动订单数\n",
    "        countDistinct(when(col(\"promotion_id\").isNotNull(), col(\"order_info_id\"))).alias(\"total_activity_order_count\"),\n",
    "        # 参与活动的店铺数量\n",
    "        countDistinct(when(col(\"promotion_id\").isNotNull(), col(\"shop_id\"))).alias(\"total_activity_shop_count\"),\n",
    "        # 参与活动的用户数量\n",
    "        countDistinct(when(col(\"promotion_id\").isNotNull(), col(\"user_id\"))).alias(\"total_activity_user_count\"),\n",
    "        # 参与活动的商品SKU数量\n",
    "        countDistinct(when(col(\"promotion_id\").isNotNull(), col(\"product_sku_id\"))).alias(\"total_activity_sku_count\"),\n",
    "        # 活动评分总和\n",
    "        sum(when(col(\"promotion_id\").isNotNull(), col(\"rating\"))).alias(\"total_activity_rating_amount\"),\n",
    "        # 活动售卖商品数量\n",
    "        sum(when(col(\"promotion_id\").isNotNull(), col(\"item_num\"))).alias(\"total_item_num\")\n",
    "    )"
   ]
  },
  {
   "cell_type": "code",
   "execution_count": 0,
   "metadata": {
    "application/vnd.databricks.v1+cell": {
     "cellMetadata": {},
     "inputWidgets": {},
     "nuid": "c992ccb4-f86d-4506-b4d3-fef8c855c14e",
     "showTitle": false,
     "title": ""
    }
   },
   "outputs": [],
   "source": [
    "# 从维度表中获取活动相关的维度信息\n",
    "promotion_df = exp1_dim_promo_info_full \\\n",
    "    .select(\n",
    "        col(\"id\"),\n",
    "        col(\"company_name\"),\n",
    "        col(\"owner_name\"),\n",
    "        col(\"promotion_name\")\n",
    "    )"
   ]
  },
  {
   "cell_type": "code",
   "execution_count": 0,
   "metadata": {
    "application/vnd.databricks.v1+cell": {
     "cellMetadata": {},
     "inputWidgets": {},
     "nuid": "da03f59a-2204-47bf-a6fa-9875361ba91a",
     "showTitle": false,
     "title": ""
    }
   },
   "outputs": [],
   "source": [
    "# 连接order_detail_agg_df和promotion_df\n",
    "exp1_dws_trade_promo_order_1di = order_detail_agg_df.join(promotion_df, order_detail_agg_df[\"promotion_id\"] == promotion_df[\"id\"], \"inner\") \\\n",
    "    .select(\n",
    "        order_detail_agg_df[\"promotion_id\"],\n",
    "        promotion_df[\"company_name\"],\n",
    "        promotion_df[\"promotion_name\"],\n",
    "        order_detail_agg_df[\"total_reduce_amount\"],\n",
    "        order_detail_agg_df[\"total_activity_order_count\"],\n",
    "        order_detail_agg_df[\"total_activity_user_count\"],\n",
    "        order_detail_agg_df[\"total_activity_shop_count\"],\n",
    "        order_detail_agg_df[\"total_activity_sku_count\"],\n",
    "        # 计算活动的平均得分\n",
    "        (order_detail_agg_df[\"total_activity_rating_amount\"] / order_detail_agg_df[\"total_activity_order_count\"]).alias(\"avg_activity_order_rating\"),\n",
    "        # 计算活动期间每个订单的平均商品数量\n",
    "        (order_detail_agg_df[\"total_item_num\"] / order_detail_agg_df[\"total_activity_order_count\"]).alias(\"avg_activity_order_item_num\")\n",
    "    )"
   ]
  },
  {
   "cell_type": "code",
   "execution_count": 0,
   "metadata": {
    "application/vnd.databricks.v1+cell": {
     "cellMetadata": {},
     "inputWidgets": {},
     "nuid": "326f1fd5-c419-4415-845a-773f7f5c8b81",
     "showTitle": false,
     "title": ""
    }
   },
   "outputs": [],
   "source": [
    "# 展示结果\n",
    "exp1_dws_trade_promo_order_1di.show()"
   ]
  },
  {
   "cell_type": "markdown",
   "metadata": {
    "application/vnd.databricks.v1+cell": {
     "cellMetadata": {},
     "inputWidgets": {},
     "nuid": "01c11ece-bf15-4dd6-9ce8-6cbc11b084b0",
     "showTitle": false,
     "title": ""
    }
   },
   "source": [
    "## 八、构建ADS层"
   ]
  },
  {
   "cell_type": "markdown",
   "metadata": {
    "application/vnd.databricks.v1+cell": {
     "cellMetadata": {},
     "inputWidgets": {},
     "nuid": "de773d98-472e-4b96-8703-54db044646ba",
     "showTitle": false,
     "title": ""
    }
   },
   "source": [
    "- ADS 层的作用是保存业务实体参与业务过程的所有聚合数据\n",
    "- 如果有多张 DWS 表，那么需要将这些ADS表按照分析主题（或者分析目标）聚合，在本实验中只有一张DWS表，所以不需要和其他表聚合"
   ]
  },
  {
   "cell_type": "code",
   "execution_count": 0,
   "metadata": {
    "application/vnd.databricks.v1+cell": {
     "cellMetadata": {},
     "inputWidgets": {},
     "nuid": "a597ea91-26b9-4f7b-ba06-761ca0f000c2",
     "showTitle": false,
     "title": ""
    }
   },
   "outputs": [],
   "source": [
    "# 将 DWS 中的数据加载到 ADS 表中，在本实验中只有一张DWS表，所以不需要和其他表聚合\n",
    "exp1_ads_trade_promo_stats_1di = exp1_dws_trade_promo_order_1di.select(\n",
    "                      lit(\"2023-04-01\").alias(\"dt\"),\n",
    "                      \"promotion_id\",\n",
    "                      \"company_name\",\n",
    "                      \"promotion_name\",\n",
    "                      \"total_reduce_amount\",\n",
    "                      \"total_activity_order_count\",\n",
    "                      \"total_activity_user_count\",\n",
    "                      \"total_activity_shop_count\",\n",
    "                      \"total_activity_sku_count\",\n",
    "                      \"avg_activity_order_rating\",\n",
    "                      \"avg_activity_order_item_num\")"
   ]
  },
  {
   "cell_type": "code",
   "execution_count": 0,
   "metadata": {
    "application/vnd.databricks.v1+cell": {
     "cellMetadata": {},
     "inputWidgets": {},
     "nuid": "b4632f9d-125a-496a-9813-74b2ae57f341",
     "showTitle": false,
     "title": ""
    }
   },
   "outputs": [],
   "source": [
    "# 显示结果\n",
    "exp1_ads_trade_promo_stats_1di.show()"
   ]
  },
  {
   "cell_type": "markdown",
   "metadata": {
    "application/vnd.databricks.v1+cell": {
     "cellMetadata": {},
     "inputWidgets": {},
     "nuid": "92aec3f2-8d72-4c15-8672-e044afac6182",
     "showTitle": false,
     "title": ""
    }
   },
   "source": [
    "## 九、停止 SparkSession"
   ]
  },
  {
   "cell_type": "code",
   "execution_count": 0,
   "metadata": {
    "application/vnd.databricks.v1+cell": {
     "cellMetadata": {},
     "inputWidgets": {},
     "nuid": "5f55ea86-8bfe-4482-a07c-3119f1bb0cd8",
     "showTitle": false,
     "title": ""
    }
   },
   "outputs": [],
   "source": [
    "spark.stop()"
   ]
  }
 ],
 "metadata": {
  "application/vnd.databricks.v1+notebook": {
   "dashboards": [],
   "language": "python",
   "notebookMetadata": {
    "pythonIndentUnit": 4
   },
   "notebookName": "exp1_promotion_analysis",
   "widgets": {}
  }
 },
 "nbformat": 4,
 "nbformat_minor": 0
}
